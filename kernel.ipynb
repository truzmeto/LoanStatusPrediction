{
 "cells": [
  {
   "cell_type": "markdown",
   "metadata": {},
   "source": [
    "# Loan Status Prediction\n",
    "\n",
    "## Introduction\n",
    "\n",
    "\n",
    "In this project, I predictive modelling in order to understand how different set of features help to indentify\n",
    "customer loan status. "
   ]
  },
  {
   "cell_type": "code",
   "execution_count": null,
   "metadata": {},
   "outputs": [],
   "source": []
  },
  {
   "cell_type": "markdown",
   "metadata": {},
   "source": [
    "## ETL Pipline\n",
    "\n",
    "1. **Data Cleaning**:\n",
    "\n",
    "    * Drop irrelevant features\n",
    "    * Clean mixed type features\n",
    "    * ....\n",
    "\n",
    "2. **Exploratory Analysis**\n",
    "\n",
    "\n",
    "3. **Machine Learning** \n"
   ]
  },
  {
   "cell_type": "code",
   "execution_count": null,
   "metadata": {},
   "outputs": [],
   "source": []
  },
  {
   "cell_type": "markdown",
   "metadata": {},
   "source": [
    "### Import Libraries"
   ]
  },
  {
   "cell_type": "code",
   "execution_count": 57,
   "metadata": {},
   "outputs": [],
   "source": [
    "import numpy as np\n",
    "import pandas as pd\n",
    "import seaborn as sns\n",
    "from datetime import datetime\n",
    "import matplotlib.pyplot as plt\n",
    "%matplotlib inline  \n",
    "import warnings\n",
    "warnings.filterwarnings(\"ignore\")"
   ]
  },
  {
   "cell_type": "markdown",
   "metadata": {},
   "source": [
    "## Loan Data"
   ]
  },
  {
   "cell_type": "code",
   "execution_count": 58,
   "metadata": {},
   "outputs": [],
   "source": [
    "df_orig = pd.read_csv(\"data/loan.csv\",low_memory=False,skiprows=1)"
   ]
  },
  {
   "cell_type": "code",
   "execution_count": 85,
   "metadata": {},
   "outputs": [],
   "source": [
    "df = df_orig"
   ]
  },
  {
   "cell_type": "code",
   "execution_count": 86,
   "metadata": {
    "scrolled": true
   },
   "outputs": [
    {
     "name": "stdout",
     "output_type": "stream",
     "text": [
      "<class 'pandas.core.frame.DataFrame'>\n",
      "RangeIndex: 99998 entries, 0 to 99997\n",
      "Columns: 145 entries, id to settlement_term\n",
      "dtypes: float64(67), int64(41), object(37)\n",
      "memory usage: 110.6+ MB\n"
     ]
    }
   ],
   "source": [
    "df.info()"
   ]
  },
  {
   "cell_type": "code",
   "execution_count": 87,
   "metadata": {
    "scrolled": true
   },
   "outputs": [
    {
     "data": {
      "text/html": [
       "<div>\n",
       "<style scoped>\n",
       "    .dataframe tbody tr th:only-of-type {\n",
       "        vertical-align: middle;\n",
       "    }\n",
       "\n",
       "    .dataframe tbody tr th {\n",
       "        vertical-align: top;\n",
       "    }\n",
       "\n",
       "    .dataframe thead th {\n",
       "        text-align: right;\n",
       "    }\n",
       "</style>\n",
       "<table border=\"1\" class=\"dataframe\">\n",
       "  <thead>\n",
       "    <tr style=\"text-align: right;\">\n",
       "      <th></th>\n",
       "      <th>id</th>\n",
       "      <th>member_id</th>\n",
       "      <th>loan_amnt</th>\n",
       "      <th>funded_amnt</th>\n",
       "      <th>funded_amnt_inv</th>\n",
       "      <th>term</th>\n",
       "      <th>int_rate</th>\n",
       "      <th>installment</th>\n",
       "      <th>grade</th>\n",
       "      <th>sub_grade</th>\n",
       "      <th>...</th>\n",
       "      <th>hardship_payoff_balance_amount</th>\n",
       "      <th>hardship_last_payment_amount</th>\n",
       "      <th>disbursement_method</th>\n",
       "      <th>debt_settlement_flag</th>\n",
       "      <th>debt_settlement_flag_date</th>\n",
       "      <th>settlement_status</th>\n",
       "      <th>settlement_date</th>\n",
       "      <th>settlement_amount</th>\n",
       "      <th>settlement_percentage</th>\n",
       "      <th>settlement_term</th>\n",
       "    </tr>\n",
       "  </thead>\n",
       "  <tbody>\n",
       "    <tr>\n",
       "      <th>0</th>\n",
       "      <td>NaN</td>\n",
       "      <td>NaN</td>\n",
       "      <td>24700</td>\n",
       "      <td>24700</td>\n",
       "      <td>24700</td>\n",
       "      <td>36 months</td>\n",
       "      <td>11.99%</td>\n",
       "      <td>820.28</td>\n",
       "      <td>C</td>\n",
       "      <td>C1</td>\n",
       "      <td>...</td>\n",
       "      <td>NaN</td>\n",
       "      <td>NaN</td>\n",
       "      <td>Cash</td>\n",
       "      <td>N</td>\n",
       "      <td>NaN</td>\n",
       "      <td>NaN</td>\n",
       "      <td>NaN</td>\n",
       "      <td>NaN</td>\n",
       "      <td>NaN</td>\n",
       "      <td>NaN</td>\n",
       "    </tr>\n",
       "    <tr>\n",
       "      <th>1</th>\n",
       "      <td>NaN</td>\n",
       "      <td>NaN</td>\n",
       "      <td>17925</td>\n",
       "      <td>17925</td>\n",
       "      <td>17925</td>\n",
       "      <td>60 months</td>\n",
       "      <td>17.27%</td>\n",
       "      <td>448.09</td>\n",
       "      <td>D</td>\n",
       "      <td>D3</td>\n",
       "      <td>...</td>\n",
       "      <td>NaN</td>\n",
       "      <td>NaN</td>\n",
       "      <td>Cash</td>\n",
       "      <td>N</td>\n",
       "      <td>NaN</td>\n",
       "      <td>NaN</td>\n",
       "      <td>NaN</td>\n",
       "      <td>NaN</td>\n",
       "      <td>NaN</td>\n",
       "      <td>NaN</td>\n",
       "    </tr>\n",
       "    <tr>\n",
       "      <th>2</th>\n",
       "      <td>NaN</td>\n",
       "      <td>NaN</td>\n",
       "      <td>9000</td>\n",
       "      <td>9000</td>\n",
       "      <td>9000</td>\n",
       "      <td>36 months</td>\n",
       "      <td>8.49%</td>\n",
       "      <td>284.07</td>\n",
       "      <td>B</td>\n",
       "      <td>B1</td>\n",
       "      <td>...</td>\n",
       "      <td>NaN</td>\n",
       "      <td>NaN</td>\n",
       "      <td>Cash</td>\n",
       "      <td>N</td>\n",
       "      <td>NaN</td>\n",
       "      <td>NaN</td>\n",
       "      <td>NaN</td>\n",
       "      <td>NaN</td>\n",
       "      <td>NaN</td>\n",
       "      <td>NaN</td>\n",
       "    </tr>\n",
       "    <tr>\n",
       "      <th>3</th>\n",
       "      <td>NaN</td>\n",
       "      <td>NaN</td>\n",
       "      <td>11550</td>\n",
       "      <td>11550</td>\n",
       "      <td>11550</td>\n",
       "      <td>60 months</td>\n",
       "      <td>16.59%</td>\n",
       "      <td>284.51</td>\n",
       "      <td>D</td>\n",
       "      <td>D2</td>\n",
       "      <td>...</td>\n",
       "      <td>NaN</td>\n",
       "      <td>NaN</td>\n",
       "      <td>Cash</td>\n",
       "      <td>N</td>\n",
       "      <td>NaN</td>\n",
       "      <td>NaN</td>\n",
       "      <td>NaN</td>\n",
       "      <td>NaN</td>\n",
       "      <td>NaN</td>\n",
       "      <td>NaN</td>\n",
       "    </tr>\n",
       "    <tr>\n",
       "      <th>4</th>\n",
       "      <td>NaN</td>\n",
       "      <td>NaN</td>\n",
       "      <td>12000</td>\n",
       "      <td>12000</td>\n",
       "      <td>12000</td>\n",
       "      <td>60 months</td>\n",
       "      <td>9.80%</td>\n",
       "      <td>253.79</td>\n",
       "      <td>B</td>\n",
       "      <td>B3</td>\n",
       "      <td>...</td>\n",
       "      <td>NaN</td>\n",
       "      <td>NaN</td>\n",
       "      <td>Cash</td>\n",
       "      <td>N</td>\n",
       "      <td>NaN</td>\n",
       "      <td>NaN</td>\n",
       "      <td>NaN</td>\n",
       "      <td>NaN</td>\n",
       "      <td>NaN</td>\n",
       "      <td>NaN</td>\n",
       "    </tr>\n",
       "  </tbody>\n",
       "</table>\n",
       "<p>5 rows × 145 columns</p>\n",
       "</div>"
      ],
      "text/plain": [
       "   id  member_id  loan_amnt  funded_amnt  funded_amnt_inv        term  \\\n",
       "0 NaN        NaN      24700        24700            24700   36 months   \n",
       "1 NaN        NaN      17925        17925            17925   60 months   \n",
       "2 NaN        NaN       9000         9000             9000   36 months   \n",
       "3 NaN        NaN      11550        11550            11550   60 months   \n",
       "4 NaN        NaN      12000        12000            12000   60 months   \n",
       "\n",
       "  int_rate  installment grade sub_grade       ...        \\\n",
       "0   11.99%       820.28     C        C1       ...         \n",
       "1   17.27%       448.09     D        D3       ...         \n",
       "2    8.49%       284.07     B        B1       ...         \n",
       "3   16.59%       284.51     D        D2       ...         \n",
       "4    9.80%       253.79     B        B3       ...         \n",
       "\n",
       "  hardship_payoff_balance_amount hardship_last_payment_amount  \\\n",
       "0                            NaN                          NaN   \n",
       "1                            NaN                          NaN   \n",
       "2                            NaN                          NaN   \n",
       "3                            NaN                          NaN   \n",
       "4                            NaN                          NaN   \n",
       "\n",
       "  disbursement_method  debt_settlement_flag debt_settlement_flag_date  \\\n",
       "0                Cash                     N                       NaN   \n",
       "1                Cash                     N                       NaN   \n",
       "2                Cash                     N                       NaN   \n",
       "3                Cash                     N                       NaN   \n",
       "4                Cash                     N                       NaN   \n",
       "\n",
       "  settlement_status settlement_date settlement_amount  settlement_percentage  \\\n",
       "0               NaN             NaN               NaN                    NaN   \n",
       "1               NaN             NaN               NaN                    NaN   \n",
       "2               NaN             NaN               NaN                    NaN   \n",
       "3               NaN             NaN               NaN                    NaN   \n",
       "4               NaN             NaN               NaN                    NaN   \n",
       "\n",
       "  settlement_term  \n",
       "0             NaN  \n",
       "1             NaN  \n",
       "2             NaN  \n",
       "3             NaN  \n",
       "4             NaN  \n",
       "\n",
       "[5 rows x 145 columns]"
      ]
     },
     "execution_count": 87,
     "metadata": {},
     "output_type": "execute_result"
    }
   ],
   "source": [
    "df.head()"
   ]
  },
  {
   "cell_type": "code",
   "execution_count": 88,
   "metadata": {},
   "outputs": [
    {
     "data": {
      "text/plain": [
       "(99998, 145)"
      ]
     },
     "execution_count": 88,
     "metadata": {},
     "output_type": "execute_result"
    }
   ],
   "source": [
    "df.shape"
   ]
  },
  {
   "cell_type": "markdown",
   "metadata": {},
   "source": [
    "There are 145 features and most of them are irrelevant. So we keep most important features for further processing."
   ]
  },
  {
   "cell_type": "code",
   "execution_count": 89,
   "metadata": {},
   "outputs": [],
   "source": [
    "keep_cols = [\"loan_status\",\"loan_amnt\", \"term\",\"int_rate\",\"installment\",\"grade\",\n",
    "             \"sub_grade\", \"emp_length\",\"home_ownership\",\"annual_inc\",\n",
    "             \"verification_status\",\"issue_d\",\"dti\",\"earliest_cr_line\",\"open_acc\",\n",
    "             \"revol_bal\",\"revol_util\",\"total_acc\"]\n",
    "df = df[keep_cols]"
   ]
  },
  {
   "cell_type": "code",
   "execution_count": null,
   "metadata": {},
   "outputs": [],
   "source": []
  },
  {
   "cell_type": "markdown",
   "metadata": {},
   "source": [
    "### Fix Target Feature"
   ]
  },
  {
   "cell_type": "code",
   "execution_count": 90,
   "metadata": {},
   "outputs": [
    {
     "data": {
      "text/plain": [
       "array(['Fully Paid', 'Current', 'Charged Off', 'Late (16-30 days)',\n",
       "       'Late (31-120 days)', 'In Grace Period', 'Default'], dtype=object)"
      ]
     },
     "execution_count": 90,
     "metadata": {},
     "output_type": "execute_result"
    }
   ],
   "source": [
    "# simplify target feature\n",
    "df.loan_status.unique()"
   ]
  },
  {
   "cell_type": "markdown",
   "metadata": {},
   "source": [
    "Target feature 'loan_status' has 7 factors. We will reduce it to two 'Good' and 'Bad' loans."
   ]
  },
  {
   "cell_type": "code",
   "execution_count": 91,
   "metadata": {},
   "outputs": [],
   "source": [
    "good_loans = ['Fully Paid', 'Current']\n",
    "\n",
    "def LoanCondition(status):\n",
    "    if status in good_loans:\n",
    "        return 'Good Loan'\n",
    "    else:\n",
    "        return 'Bad Loan'\n",
    "\n",
    "tmp = df['loan_status'].apply(LoanCondition)\n",
    "df.loan_status = tmp"
   ]
  },
  {
   "cell_type": "markdown",
   "metadata": {},
   "source": [
    "### Clean Features\n",
    "\n",
    "Some features have mixed type such as number mixed with string.\n",
    "\n",
    "* Remove '%' from 'int_rate', 'revol_util' \n",
    "* Replace all 'n/a' with np.nan\n",
    "* "
   ]
  },
  {
   "cell_type": "code",
   "execution_count": 66,
   "metadata": {},
   "outputs": [],
   "source": [
    "def CleanData(df):\n",
    "    \"\"\"\n",
    "    \n",
    "    \"\"\"\n",
    "    \n",
    "    #rm '%' and convert to float\n",
    "    df.int_rate = pd.Series(df.int_rate).str.replace('%', '').astype(float)\n",
    "    df.revol_util = pd.Series(df.revol_util).str.replace('%', '').astype(float)\n",
    "    \n",
    "    df.replace('n/a', np.nan,inplace = True)\n",
    "    df.emp_length.fillna(value = 0,inplace = True)\n",
    "    \n",
    "    df['emp_length'].replace(to_replace = '[^0-9]+', value='', inplace = True, regex = True)\n",
    "    df['emp_length'] = df['emp_length'].astype(int)\n",
    "    \n",
    "    issue_month = df.issue_d.str.replace('-2015', '')\n",
    "    df['issue_month'] = pd.Series( issue_month, index=df.index)\n",
    "    \n",
    "    df.term = pd.Series(df.term).str.replace('months', '').astype(int)\n",
    "    \n",
    "    df.earliest_cr_line = pd.to_datetime(df.earliest_cr_line)\n",
    "    df.issue_d = pd.to_datetime(df.issue_d)\n",
    "    \n",
    "    cred_age = df.issue_d - df.earliest_cr_line\n",
    "    df['cred_age'] = pd.Series( cred_age, index=df.index)\n",
    "        \n",
    "    tmp = np.rint(df['cred_age'].map(lambda x: x.days/365))\n",
    "    df['cred_age'] = pd.Series( tmp, index=df.index)\n",
    "\n",
    "    df.drop(columns=\"issue_d\",inplace=True)\n",
    "    df.drop(columns=\"earliest_cr_line\",inplace=True)\n",
    "    \n",
    "    return df\n",
    "\n",
    "    "
   ]
  },
  {
   "cell_type": "code",
   "execution_count": null,
   "metadata": {},
   "outputs": [],
   "source": []
  },
  {
   "cell_type": "code",
   "execution_count": 67,
   "metadata": {},
   "outputs": [],
   "source": [
    "df = CleanData(df)"
   ]
  },
  {
   "cell_type": "code",
   "execution_count": 45,
   "metadata": {},
   "outputs": [],
   "source": [
    "#df['cred_age'] = pd.Series( tmp, index=df.index)    "
   ]
  },
  {
   "cell_type": "code",
   "execution_count": null,
   "metadata": {},
   "outputs": [],
   "source": []
  },
  {
   "cell_type": "code",
   "execution_count": null,
   "metadata": {},
   "outputs": [],
   "source": [
    "#df_orig.purpose.value_counts()"
   ]
  },
  {
   "cell_type": "code",
   "execution_count": null,
   "metadata": {},
   "outputs": [],
   "source": []
  },
  {
   "cell_type": "code",
   "execution_count": 97,
   "metadata": {},
   "outputs": [],
   "source": [
    "df.sub_grade"
   ]
  },
  {
   "cell_type": "code",
   "execution_count": null,
   "metadata": {},
   "outputs": [],
   "source": [
    "df.emp_length"
   ]
  },
  {
   "cell_type": "code",
   "execution_count": 72,
   "metadata": {
    "scrolled": true
   },
   "outputs": [
    {
     "data": {
      "text/plain": [
       "<matplotlib.axes._subplots.AxesSubplot at 0x7fb4eb2a4e10>"
      ]
     },
     "execution_count": 72,
     "metadata": {},
     "output_type": "execute_result"
    },
    {
     "data": {
      "image/png": "[encoded data removed]",
      "text/plain": [
       "<Figure size 1008x504 with 1 Axes>"
      ]
     },
     "metadata": {
      "needs_background": "light"
     },
     "output_type": "display_data"
    }
   ],
   "source": [
    "plt.figure(figsize=(14,7))\n",
    "sns.barplot('emp_length', 'loan_amnt', data=df, palette='tab10')"
   ]
  },
  {
   "cell_type": "code",
   "execution_count": null,
   "metadata": {},
   "outputs": [],
   "source": []
  },
  {
   "cell_type": "code",
   "execution_count": 77,
   "metadata": {},
   "outputs": [
    {
     "data": {
      "text/plain": [
       "[Text(0, 0.5, '(%)')]"
      ]
     },
     "execution_count": 77,
     "metadata": {},
     "output_type": "execute_result"
    },
    {
     "data": {
      "image/png": "[encoded data removed]",
      "text/plain": [
       "<Figure size 1008x504 with 2 Axes>"
      ]
     },
     "metadata": {
      "needs_background": "light"
     },
     "output_type": "display_data"
    }
   ],
   "source": [
    "f, ax = plt.subplots(1,2, figsize=(14,7))\n",
    "\n",
    "#colors = [\"#3791D7\", \"#D72626\"]\n",
    "\n",
    "labels =['Fully Paid', 'Current', 'Charged Off', 'Late16-30days']\n",
    "\n",
    "plt.suptitle('Information on Loan Conditions', fontsize=20)\n",
    "\n",
    "df[\"term\"].value_counts().plot.pie(explode=[0,0.25],\n",
    "                                          autopct='%1.2f%%',\n",
    "                                          ax=ax[0],\n",
    "                                          shadow=True,\n",
    "                                          #colors=colors,\n",
    "                                          #labels=labels,\n",
    "                                          fontsize=12,\n",
    "                                          startangle=70)\n",
    "\n",
    "ax[0].set_title('Loan Status', fontsize=16)\n",
    "ax[0].set_ylabel('% of Condition of Loans', fontsize=14)\n",
    "\n",
    "\n",
    "sns.barplot(x=\"issue_month\", y=\"loan_amnt\", hue=\"loan_status\",\n",
    "            data=df, #palette=palette,\n",
    "            estimator=lambda x: len(x) / len(df) * 100)\n",
    "\n",
    "ax[1].set(ylabel=\"(%)\")"
   ]
  },
  {
   "cell_type": "code",
   "execution_count": 23,
   "metadata": {},
   "outputs": [
    {
     "data": {
      "text/plain": [
       "array(['Fully Paid', 'Current', 'Charged Off', 'Late (16-30 days)',\n",
       "       'Late (31-120 days)', 'In Grace Period', 'Default'], dtype=object)"
      ]
     },
     "execution_count": 23,
     "metadata": {},
     "output_type": "execute_result"
    }
   ],
   "source": [
    "df.loan_status.unique()"
   ]
  },
  {
   "cell_type": "code",
   "execution_count": null,
   "metadata": {},
   "outputs": [],
   "source": []
  },
  {
   "cell_type": "code",
   "execution_count": 29,
   "metadata": {},
   "outputs": [],
   "source": [
    "df[(df.loan_status == 'Current') | (df.loan_status == 'Fully Paid')].loan_status = \"GoodLoan\""
   ]
  },
  {
   "cell_type": "code",
   "execution_count": 30,
   "metadata": {},
   "outputs": [
    {
     "data": {
      "text/html": [
       "<div>\n",
       "<style scoped>\n",
       "    .dataframe tbody tr th:only-of-type {\n",
       "        vertical-align: middle;\n",
       "    }\n",
       "\n",
       "    .dataframe tbody tr th {\n",
       "        vertical-align: top;\n",
       "    }\n",
       "\n",
       "    .dataframe thead th {\n",
       "        text-align: right;\n",
       "    }\n",
       "</style>\n",
       "<table border=\"1\" class=\"dataframe\">\n",
       "  <thead>\n",
       "    <tr style=\"text-align: right;\">\n",
       "      <th></th>\n",
       "      <th>loan_status</th>\n",
       "      <th>loan_amnt</th>\n",
       "      <th>term</th>\n",
       "      <th>int_rate</th>\n",
       "      <th>installment</th>\n",
       "      <th>grade</th>\n",
       "      <th>sub_grade</th>\n",
       "      <th>emp_length</th>\n",
       "      <th>home_ownership</th>\n",
       "      <th>annual_inc</th>\n",
       "      <th>verification_status</th>\n",
       "      <th>dti</th>\n",
       "      <th>open_acc</th>\n",
       "      <th>revol_bal</th>\n",
       "      <th>revol_util</th>\n",
       "      <th>total_acc</th>\n",
       "      <th>issue_month</th>\n",
       "      <th>cred_age</th>\n",
       "    </tr>\n",
       "  </thead>\n",
       "  <tbody>\n",
       "    <tr>\n",
       "      <th>0</th>\n",
       "      <td>Fully Paid</td>\n",
       "      <td>24700</td>\n",
       "      <td>36</td>\n",
       "      <td>11.99</td>\n",
       "      <td>820.28</td>\n",
       "      <td>C</td>\n",
       "      <td>C1</td>\n",
       "      <td>10</td>\n",
       "      <td>MORTGAGE</td>\n",
       "      <td>65000.0</td>\n",
       "      <td>Not Verified</td>\n",
       "      <td>16.06</td>\n",
       "      <td>22</td>\n",
       "      <td>21470</td>\n",
       "      <td>19.2</td>\n",
       "      <td>38</td>\n",
       "      <td>Dec</td>\n",
       "      <td>16.0</td>\n",
       "    </tr>\n",
       "    <tr>\n",
       "      <th>1</th>\n",
       "      <td>Current</td>\n",
       "      <td>17925</td>\n",
       "      <td>60</td>\n",
       "      <td>17.27</td>\n",
       "      <td>448.09</td>\n",
       "      <td>D</td>\n",
       "      <td>D3</td>\n",
       "      <td>10</td>\n",
       "      <td>OWN</td>\n",
       "      <td>39000.0</td>\n",
       "      <td>Source Verified</td>\n",
       "      <td>27.78</td>\n",
       "      <td>10</td>\n",
       "      <td>19614</td>\n",
       "      <td>76.0</td>\n",
       "      <td>21</td>\n",
       "      <td>Dec</td>\n",
       "      <td>13.0</td>\n",
       "    </tr>\n",
       "    <tr>\n",
       "      <th>2</th>\n",
       "      <td>Fully Paid</td>\n",
       "      <td>9000</td>\n",
       "      <td>36</td>\n",
       "      <td>8.49</td>\n",
       "      <td>284.07</td>\n",
       "      <td>B</td>\n",
       "      <td>B1</td>\n",
       "      <td>8</td>\n",
       "      <td>MORTGAGE</td>\n",
       "      <td>47000.0</td>\n",
       "      <td>Not Verified</td>\n",
       "      <td>8.43</td>\n",
       "      <td>12</td>\n",
       "      <td>9747</td>\n",
       "      <td>26.7</td>\n",
       "      <td>22</td>\n",
       "      <td>Dec</td>\n",
       "      <td>15.0</td>\n",
       "    </tr>\n",
       "    <tr>\n",
       "      <th>3</th>\n",
       "      <td>Charged Off</td>\n",
       "      <td>11550</td>\n",
       "      <td>60</td>\n",
       "      <td>16.59</td>\n",
       "      <td>284.51</td>\n",
       "      <td>D</td>\n",
       "      <td>D2</td>\n",
       "      <td>5</td>\n",
       "      <td>RENT</td>\n",
       "      <td>38000.0</td>\n",
       "      <td>Not Verified</td>\n",
       "      <td>21.07</td>\n",
       "      <td>9</td>\n",
       "      <td>7179</td>\n",
       "      <td>39.7</td>\n",
       "      <td>12</td>\n",
       "      <td>Dec</td>\n",
       "      <td>5.0</td>\n",
       "    </tr>\n",
       "    <tr>\n",
       "      <th>4</th>\n",
       "      <td>Fully Paid</td>\n",
       "      <td>12000</td>\n",
       "      <td>60</td>\n",
       "      <td>9.80</td>\n",
       "      <td>253.79</td>\n",
       "      <td>B</td>\n",
       "      <td>B3</td>\n",
       "      <td>10</td>\n",
       "      <td>MORTGAGE</td>\n",
       "      <td>65000.0</td>\n",
       "      <td>Not Verified</td>\n",
       "      <td>23.84</td>\n",
       "      <td>18</td>\n",
       "      <td>9786</td>\n",
       "      <td>13.4</td>\n",
       "      <td>37</td>\n",
       "      <td>Dec</td>\n",
       "      <td>12.0</td>\n",
       "    </tr>\n",
       "  </tbody>\n",
       "</table>\n",
       "</div>"
      ],
      "text/plain": [
       "   loan_status  loan_amnt  term  int_rate  installment grade sub_grade  \\\n",
       "0   Fully Paid      24700    36     11.99       820.28     C        C1   \n",
       "1      Current      17925    60     17.27       448.09     D        D3   \n",
       "2   Fully Paid       9000    36      8.49       284.07     B        B1   \n",
       "3  Charged Off      11550    60     16.59       284.51     D        D2   \n",
       "4   Fully Paid      12000    60      9.80       253.79     B        B3   \n",
       "\n",
       "   emp_length home_ownership  annual_inc verification_status    dti  open_acc  \\\n",
       "0          10       MORTGAGE     65000.0        Not Verified  16.06        22   \n",
       "1          10            OWN     39000.0     Source Verified  27.78        10   \n",
       "2           8       MORTGAGE     47000.0        Not Verified   8.43        12   \n",
       "3           5           RENT     38000.0        Not Verified  21.07         9   \n",
       "4          10       MORTGAGE     65000.0        Not Verified  23.84        18   \n",
       "\n",
       "   revol_bal  revol_util  total_acc issue_month  cred_age  \n",
       "0      21470        19.2         38         Dec      16.0  \n",
       "1      19614        76.0         21         Dec      13.0  \n",
       "2       9747        26.7         22         Dec      15.0  \n",
       "3       7179        39.7         12         Dec       5.0  \n",
       "4       9786        13.4         37         Dec      12.0  "
      ]
     },
     "execution_count": 30,
     "metadata": {},
     "output_type": "execute_result"
    }
   ],
   "source": [
    "df.head()"
   ]
  },
  {
   "cell_type": "code",
   "execution_count": null,
   "metadata": {},
   "outputs": [],
   "source": []
  },
  {
   "cell_type": "code",
   "execution_count": null,
   "metadata": {},
   "outputs": [],
   "source": []
  }
 ],
 "metadata": {
  "kernelspec": {
   "display_name": "Python 3",
   "language": "python",
   "name": "python3"
  },
  "language_info": {
   "codemirror_mode": {
    "name": "ipython",
    "version": 3
   },
   "file_extension": ".py",
   "mimetype": "text/x-python",
   "name": "python",
   "nbconvert_exporter": "python",
   "pygments_lexer": "ipython3",
   "version": "3.6.6"
  }
 },
 "nbformat": 4,
 "nbformat_minor": 2
}

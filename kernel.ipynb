{
 "cells": [
  {
   "cell_type": "markdown",
   "metadata": {},
   "source": [
    "# Loan Status Prediction\n",
    "\n",
    "\n",
    "## Introduction\n",
    "\n",
    "It is crucial for lending companies or banks to make a correct desicion on issuing a loan to their customers. An optimal desicion considers both customer needs and companies interest. This optimization process is most often done through risk assesment on individual customer by making comprison to loan/credit history of past or existing customers. In this project, I aim to demonstrate predictive modelling approach that can potentially predict customer future status using lending clubs 2015 loan data set. "
   ]
  },
  {
   "cell_type": "markdown",
   "metadata": {},
   "source": [
    "## Lending Club Data\n",
    "\n",
    "Lending Club is one of the America's largest lending companies that allows borrowers\n",
    "to apply for and obtain personal loans, auto refinancing, business loans and some other types of loans.\n",
    "Additionally, they make some of their data publically available https://www.lendingclub.com/info/download-data.action.  \n",
    "\n",
    "\n",
    "![title](https://getbackonfeet.com/wp-content/uploads/2018/10/000-2-1.png)"
   ]
  },
  {
   "cell_type": "markdown",
   "metadata": {},
   "source": [
    "## ETL Pipline\n",
    "\n",
    "1. **Data Cleaning**:\n",
    "\n",
    "    * Drop irrelevant features\n",
    "    * Clean mixed type features\n",
    "\n",
    "2. **Exploratory Data Analysis**\n",
    "    * Visualize different sets of features \n",
    "    * Another round of cleaning and featurer extraction\n",
    "    \n",
    "\n",
    "3. **Machine Learning** \n",
    "    * Feature Normalization\n",
    "    * Train Test Split\n",
    "    * ML Prediction\n",
    "    \n"
   ]
  },
  {
   "cell_type": "markdown",
   "metadata": {},
   "source": [
    "### Import Libraries"
   ]
  },
  {
   "cell_type": "code",
   "execution_count": 4,
   "metadata": {},
   "outputs": [],
   "source": [
    "import numpy as np\n",
    "import pandas as pd\n",
    "import seaborn as sns\n",
    "from datetime import datetime\n",
    "import matplotlib.pyplot as plt\n",
    "\n",
    "#plotly\n",
    "from plotly.plotly import iplot\n",
    "import plotly.graph_objs as go\n",
    "\n",
    "#my functions\n",
    "#this functions relocated in order to make\n",
    "#the report look less bulcky\n",
    "from src.utility import CleanData, ColorList\n",
    "from src.plotting import CPlot,plotLoanStat1, plotLoanStat2, plotLoanStat3\n",
    "#from src.ml_models import *\n",
    "\n",
    "#import ml stuff\n",
    "from sklearn import preprocessing\n",
    "from sklearn.neural_network import MLPClassifier\n",
    "from sklearn.model_selection import train_test_split\n",
    "from sklearn.metrics import confusion_matrix,classification_report\n",
    "\n",
    "#suppress warnings\n",
    "import warnings\n",
    "warnings.filterwarnings(\"ignore\")\n",
    "%matplotlib inline  "
   ]
  },
  {
   "cell_type": "markdown",
   "metadata": {},
   "source": [
    "### Import Data\n",
    "\n",
    "We import data by subsetting columns that are relevant and useful in data exploration. Raw data contains nearly 145 features. Some of these features are duplicates, some others are irrelevant( such as id,member_id,url etc.). By eliminating unnecessary features we reduce memory usage and speed up performance. \n"
   ]
  },
  {
   "cell_type": "code",
   "execution_count": 9,
   "metadata": {},
   "outputs": [],
   "source": [
    "#extract data from lending club's website\n",
    "#!curl https://resources.lendingclub.com/LoanStats3d.csv.zip > data/LoanStats3d.csv.zip"
   ]
  },
  {
   "cell_type": "code",
   "execution_count": 5,
   "metadata": {},
   "outputs": [],
   "source": [
    "keep_cols = [\"loan_status\",\"loan_amnt\", \"term\",\"int_rate\",\"installment\",\"grade\",\n",
    "             \"sub_grade\",\"purpose\",\"emp_length\",\"home_ownership\",\"annual_inc\",\n",
    "             \"verification_status\",\"issue_d\",\"dti\",\"earliest_cr_line\",\"open_acc\",\n",
    "             \"revol_bal\",\"revol_util\",\"total_acc\"]\n",
    "#\"zip_code\",\"addr_state\"\n",
    "df_orig = pd.read_csv(\"data/LoanStats3d.csv.zip\", usecols=keep_cols,skipfooter=4,skiprows=1)#,low_memory=False)"
   ]
  },
  {
   "cell_type": "code",
   "execution_count": 6,
   "metadata": {
    "scrolled": true
   },
   "outputs": [
    {
     "name": "stdout",
     "output_type": "stream",
     "text": [
      "<class 'pandas.core.frame.DataFrame'>\n",
      "RangeIndex: 421095 entries, 0 to 421094\n",
      "Data columns (total 19 columns):\n",
      "loan_amnt              421095 non-null int64\n",
      "term                   421095 non-null object\n",
      "int_rate               421095 non-null object\n",
      "installment            421095 non-null float64\n",
      "grade                  421095 non-null object\n",
      "sub_grade              421095 non-null object\n",
      "emp_length             397278 non-null object\n",
      "home_ownership         421095 non-null object\n",
      "annual_inc             421095 non-null float64\n",
      "verification_status    421095 non-null object\n",
      "issue_d                421095 non-null object\n",
      "loan_status            421095 non-null object\n",
      "purpose                421095 non-null object\n",
      "dti                    421093 non-null float64\n",
      "earliest_cr_line       421095 non-null object\n",
      "open_acc               421095 non-null int64\n",
      "revol_bal              421095 non-null int64\n",
      "revol_util             420933 non-null object\n",
      "total_acc              421095 non-null int64\n",
      "dtypes: float64(3), int64(4), object(12)\n",
      "memory usage: 61.0+ MB\n"
     ]
    }
   ],
   "source": [
    "df = df_orig\n",
    "df.info()"
   ]
  },
  {
   "cell_type": "markdown",
   "metadata": {},
   "source": [
    "Only 19 features are choosen to process further. Feature names are self explanatory. Data info show some numeric or integer data types and some categorical data types(object). Let's take a closer look at a few rows."
   ]
  },
  {
   "cell_type": "code",
   "execution_count": 7,
   "metadata": {
    "scrolled": true
   },
   "outputs": [
    {
     "data": {
      "text/html": [
       "<div>\n",
       "<style scoped>\n",
       "    .dataframe tbody tr th:only-of-type {\n",
       "        vertical-align: middle;\n",
       "    }\n",
       "\n",
       "    .dataframe tbody tr th {\n",
       "        vertical-align: top;\n",
       "    }\n",
       "\n",
       "    .dataframe thead th {\n",
       "        text-align: right;\n",
       "    }\n",
       "</style>\n",
       "<table border=\"1\" class=\"dataframe\">\n",
       "  <thead>\n",
       "    <tr style=\"text-align: right;\">\n",
       "      <th></th>\n",
       "      <th>loan_amnt</th>\n",
       "      <th>term</th>\n",
       "      <th>int_rate</th>\n",
       "      <th>installment</th>\n",
       "      <th>grade</th>\n",
       "      <th>sub_grade</th>\n",
       "      <th>emp_length</th>\n",
       "      <th>home_ownership</th>\n",
       "      <th>annual_inc</th>\n",
       "      <th>verification_status</th>\n",
       "      <th>issue_d</th>\n",
       "      <th>loan_status</th>\n",
       "      <th>purpose</th>\n",
       "      <th>dti</th>\n",
       "      <th>earliest_cr_line</th>\n",
       "      <th>open_acc</th>\n",
       "      <th>revol_bal</th>\n",
       "      <th>revol_util</th>\n",
       "      <th>total_acc</th>\n",
       "    </tr>\n",
       "  </thead>\n",
       "  <tbody>\n",
       "    <tr>\n",
       "      <th>0</th>\n",
       "      <td>24700</td>\n",
       "      <td>36 months</td>\n",
       "      <td>11.99%</td>\n",
       "      <td>820.28</td>\n",
       "      <td>C</td>\n",
       "      <td>C1</td>\n",
       "      <td>10+ years</td>\n",
       "      <td>MORTGAGE</td>\n",
       "      <td>65000.0</td>\n",
       "      <td>Not Verified</td>\n",
       "      <td>Dec-2015</td>\n",
       "      <td>Fully Paid</td>\n",
       "      <td>small_business</td>\n",
       "      <td>16.06</td>\n",
       "      <td>Dec-1999</td>\n",
       "      <td>22</td>\n",
       "      <td>21470</td>\n",
       "      <td>19.2%</td>\n",
       "      <td>38</td>\n",
       "    </tr>\n",
       "    <tr>\n",
       "      <th>1</th>\n",
       "      <td>17925</td>\n",
       "      <td>60 months</td>\n",
       "      <td>17.27%</td>\n",
       "      <td>448.09</td>\n",
       "      <td>D</td>\n",
       "      <td>D3</td>\n",
       "      <td>10+ years</td>\n",
       "      <td>OWN</td>\n",
       "      <td>39000.0</td>\n",
       "      <td>Source Verified</td>\n",
       "      <td>Dec-2015</td>\n",
       "      <td>Current</td>\n",
       "      <td>debt_consolidation</td>\n",
       "      <td>27.78</td>\n",
       "      <td>Sep-2002</td>\n",
       "      <td>10</td>\n",
       "      <td>19614</td>\n",
       "      <td>76%</td>\n",
       "      <td>21</td>\n",
       "    </tr>\n",
       "    <tr>\n",
       "      <th>2</th>\n",
       "      <td>9000</td>\n",
       "      <td>36 months</td>\n",
       "      <td>8.49%</td>\n",
       "      <td>284.07</td>\n",
       "      <td>B</td>\n",
       "      <td>B1</td>\n",
       "      <td>8 years</td>\n",
       "      <td>MORTGAGE</td>\n",
       "      <td>47000.0</td>\n",
       "      <td>Not Verified</td>\n",
       "      <td>Dec-2015</td>\n",
       "      <td>Fully Paid</td>\n",
       "      <td>debt_consolidation</td>\n",
       "      <td>8.43</td>\n",
       "      <td>Nov-2000</td>\n",
       "      <td>12</td>\n",
       "      <td>9747</td>\n",
       "      <td>26.7%</td>\n",
       "      <td>22</td>\n",
       "    </tr>\n",
       "    <tr>\n",
       "      <th>3</th>\n",
       "      <td>11550</td>\n",
       "      <td>60 months</td>\n",
       "      <td>16.59%</td>\n",
       "      <td>284.51</td>\n",
       "      <td>D</td>\n",
       "      <td>D2</td>\n",
       "      <td>5 years</td>\n",
       "      <td>RENT</td>\n",
       "      <td>38000.0</td>\n",
       "      <td>Not Verified</td>\n",
       "      <td>Dec-2015</td>\n",
       "      <td>Charged Off</td>\n",
       "      <td>credit_card</td>\n",
       "      <td>21.07</td>\n",
       "      <td>Jan-2011</td>\n",
       "      <td>9</td>\n",
       "      <td>7179</td>\n",
       "      <td>39.7%</td>\n",
       "      <td>12</td>\n",
       "    </tr>\n",
       "    <tr>\n",
       "      <th>4</th>\n",
       "      <td>12000</td>\n",
       "      <td>60 months</td>\n",
       "      <td>9.80%</td>\n",
       "      <td>253.79</td>\n",
       "      <td>B</td>\n",
       "      <td>B3</td>\n",
       "      <td>10+ years</td>\n",
       "      <td>MORTGAGE</td>\n",
       "      <td>65000.0</td>\n",
       "      <td>Not Verified</td>\n",
       "      <td>Dec-2015</td>\n",
       "      <td>Fully Paid</td>\n",
       "      <td>debt_consolidation</td>\n",
       "      <td>23.84</td>\n",
       "      <td>Nov-2003</td>\n",
       "      <td>18</td>\n",
       "      <td>9786</td>\n",
       "      <td>13.4%</td>\n",
       "      <td>37</td>\n",
       "    </tr>\n",
       "  </tbody>\n",
       "</table>\n",
       "</div>"
      ],
      "text/plain": [
       "   loan_amnt        term int_rate  installment grade sub_grade emp_length  \\\n",
       "0      24700   36 months   11.99%       820.28     C        C1  10+ years   \n",
       "1      17925   60 months   17.27%       448.09     D        D3  10+ years   \n",
       "2       9000   36 months    8.49%       284.07     B        B1    8 years   \n",
       "3      11550   60 months   16.59%       284.51     D        D2    5 years   \n",
       "4      12000   60 months    9.80%       253.79     B        B3  10+ years   \n",
       "\n",
       "  home_ownership  annual_inc verification_status   issue_d  loan_status  \\\n",
       "0       MORTGAGE     65000.0        Not Verified  Dec-2015   Fully Paid   \n",
       "1            OWN     39000.0     Source Verified  Dec-2015      Current   \n",
       "2       MORTGAGE     47000.0        Not Verified  Dec-2015   Fully Paid   \n",
       "3           RENT     38000.0        Not Verified  Dec-2015  Charged Off   \n",
       "4       MORTGAGE     65000.0        Not Verified  Dec-2015   Fully Paid   \n",
       "\n",
       "              purpose    dti earliest_cr_line  open_acc  revol_bal revol_util  \\\n",
       "0      small_business  16.06         Dec-1999        22      21470      19.2%   \n",
       "1  debt_consolidation  27.78         Sep-2002        10      19614        76%   \n",
       "2  debt_consolidation   8.43         Nov-2000        12       9747      26.7%   \n",
       "3         credit_card  21.07         Jan-2011         9       7179      39.7%   \n",
       "4  debt_consolidation  23.84         Nov-2003        18       9786      13.4%   \n",
       "\n",
       "   total_acc  \n",
       "0         38  \n",
       "1         21  \n",
       "2         22  \n",
       "3         12  \n",
       "4         37  "
      ]
     },
     "execution_count": 7,
     "metadata": {},
     "output_type": "execute_result"
    }
   ],
   "source": [
    "df.head()"
   ]
  },
  {
   "cell_type": "markdown",
   "metadata": {},
   "source": [
    "As shown, some features have mixed data type such as number mixed with string that needs cleaning. In addition,\n",
    "date_time features can be used to extract a new more meaningfull feature. For instance, by subtracting 'earliest credit line' from 'issue date' we obtain 'credit age' that might have more impact on prediction.\n",
    "\n",
    "* Remove '%' from 'int_rate', 'revol_util' \n",
    "* Replace all 'n/a' with np.nan\n",
    "* Extract numeric part of employment length\n",
    "* Save name of the loan issued month\n",
    "* Get credita agae from issue data and earliest credit line\n",
    "* Again drop some unnecessary columns"
   ]
  },
  {
   "cell_type": "markdown",
   "metadata": {},
   "source": [
    "###  Feature Cleaning\n",
    "\n",
    "Here, I call a function that performs data cleaning that is located in 'src/utility.py' file. \n"
   ]
  },
  {
   "cell_type": "code",
   "execution_count": 8,
   "metadata": {},
   "outputs": [
    {
     "data": {
      "text/html": [
       "<div>\n",
       "<style scoped>\n",
       "    .dataframe tbody tr th:only-of-type {\n",
       "        vertical-align: middle;\n",
       "    }\n",
       "\n",
       "    .dataframe tbody tr th {\n",
       "        vertical-align: top;\n",
       "    }\n",
       "\n",
       "    .dataframe thead th {\n",
       "        text-align: right;\n",
       "    }\n",
       "</style>\n",
       "<table border=\"1\" class=\"dataframe\">\n",
       "  <thead>\n",
       "    <tr style=\"text-align: right;\">\n",
       "      <th></th>\n",
       "      <th>loan_amnt</th>\n",
       "      <th>term</th>\n",
       "      <th>int_rate</th>\n",
       "      <th>installment</th>\n",
       "      <th>grade</th>\n",
       "      <th>sub_grade</th>\n",
       "      <th>emp_length</th>\n",
       "      <th>home_ownership</th>\n",
       "      <th>annual_inc</th>\n",
       "      <th>verification_status</th>\n",
       "      <th>loan_status</th>\n",
       "      <th>purpose</th>\n",
       "      <th>dti</th>\n",
       "      <th>open_acc</th>\n",
       "      <th>revol_bal</th>\n",
       "      <th>revol_util</th>\n",
       "      <th>total_acc</th>\n",
       "      <th>issue_month</th>\n",
       "      <th>cred_age</th>\n",
       "    </tr>\n",
       "  </thead>\n",
       "  <tbody>\n",
       "    <tr>\n",
       "      <th>0</th>\n",
       "      <td>24700</td>\n",
       "      <td>36 months</td>\n",
       "      <td>11.99</td>\n",
       "      <td>820.28</td>\n",
       "      <td>C</td>\n",
       "      <td>C1</td>\n",
       "      <td>10</td>\n",
       "      <td>MORTGAGE</td>\n",
       "      <td>65000.0</td>\n",
       "      <td>Not Verified</td>\n",
       "      <td>Fully Paid</td>\n",
       "      <td>small_business</td>\n",
       "      <td>16.06</td>\n",
       "      <td>22</td>\n",
       "      <td>21470</td>\n",
       "      <td>19.2</td>\n",
       "      <td>38</td>\n",
       "      <td>Dec</td>\n",
       "      <td>16.0</td>\n",
       "    </tr>\n",
       "    <tr>\n",
       "      <th>1</th>\n",
       "      <td>17925</td>\n",
       "      <td>60 months</td>\n",
       "      <td>17.27</td>\n",
       "      <td>448.09</td>\n",
       "      <td>D</td>\n",
       "      <td>D3</td>\n",
       "      <td>10</td>\n",
       "      <td>OWN</td>\n",
       "      <td>39000.0</td>\n",
       "      <td>Source Verified</td>\n",
       "      <td>Current</td>\n",
       "      <td>debt_consolidation</td>\n",
       "      <td>27.78</td>\n",
       "      <td>10</td>\n",
       "      <td>19614</td>\n",
       "      <td>76.0</td>\n",
       "      <td>21</td>\n",
       "      <td>Dec</td>\n",
       "      <td>13.0</td>\n",
       "    </tr>\n",
       "    <tr>\n",
       "      <th>2</th>\n",
       "      <td>9000</td>\n",
       "      <td>36 months</td>\n",
       "      <td>8.49</td>\n",
       "      <td>284.07</td>\n",
       "      <td>B</td>\n",
       "      <td>B1</td>\n",
       "      <td>8</td>\n",
       "      <td>MORTGAGE</td>\n",
       "      <td>47000.0</td>\n",
       "      <td>Not Verified</td>\n",
       "      <td>Fully Paid</td>\n",
       "      <td>debt_consolidation</td>\n",
       "      <td>8.43</td>\n",
       "      <td>12</td>\n",
       "      <td>9747</td>\n",
       "      <td>26.7</td>\n",
       "      <td>22</td>\n",
       "      <td>Dec</td>\n",
       "      <td>15.0</td>\n",
       "    </tr>\n",
       "    <tr>\n",
       "      <th>3</th>\n",
       "      <td>11550</td>\n",
       "      <td>60 months</td>\n",
       "      <td>16.59</td>\n",
       "      <td>284.51</td>\n",
       "      <td>D</td>\n",
       "      <td>D2</td>\n",
       "      <td>5</td>\n",
       "      <td>RENT</td>\n",
       "      <td>38000.0</td>\n",
       "      <td>Not Verified</td>\n",
       "      <td>Charged Off</td>\n",
       "      <td>credit_card</td>\n",
       "      <td>21.07</td>\n",
       "      <td>9</td>\n",
       "      <td>7179</td>\n",
       "      <td>39.7</td>\n",
       "      <td>12</td>\n",
       "      <td>Dec</td>\n",
       "      <td>5.0</td>\n",
       "    </tr>\n",
       "    <tr>\n",
       "      <th>4</th>\n",
       "      <td>12000</td>\n",
       "      <td>60 months</td>\n",
       "      <td>9.80</td>\n",
       "      <td>253.79</td>\n",
       "      <td>B</td>\n",
       "      <td>B3</td>\n",
       "      <td>10</td>\n",
       "      <td>MORTGAGE</td>\n",
       "      <td>65000.0</td>\n",
       "      <td>Not Verified</td>\n",
       "      <td>Fully Paid</td>\n",
       "      <td>debt_consolidation</td>\n",
       "      <td>23.84</td>\n",
       "      <td>18</td>\n",
       "      <td>9786</td>\n",
       "      <td>13.4</td>\n",
       "      <td>37</td>\n",
       "      <td>Dec</td>\n",
       "      <td>12.0</td>\n",
       "    </tr>\n",
       "  </tbody>\n",
       "</table>\n",
       "</div>"
      ],
      "text/plain": [
       "   loan_amnt        term  int_rate  installment grade sub_grade  emp_length  \\\n",
       "0      24700   36 months     11.99       820.28     C        C1          10   \n",
       "1      17925   60 months     17.27       448.09     D        D3          10   \n",
       "2       9000   36 months      8.49       284.07     B        B1           8   \n",
       "3      11550   60 months     16.59       284.51     D        D2           5   \n",
       "4      12000   60 months      9.80       253.79     B        B3          10   \n",
       "\n",
       "  home_ownership  annual_inc verification_status  loan_status  \\\n",
       "0       MORTGAGE     65000.0        Not Verified   Fully Paid   \n",
       "1            OWN     39000.0     Source Verified      Current   \n",
       "2       MORTGAGE     47000.0        Not Verified   Fully Paid   \n",
       "3           RENT     38000.0        Not Verified  Charged Off   \n",
       "4       MORTGAGE     65000.0        Not Verified   Fully Paid   \n",
       "\n",
       "              purpose    dti  open_acc  revol_bal  revol_util  total_acc  \\\n",
       "0      small_business  16.06        22      21470        19.2         38   \n",
       "1  debt_consolidation  27.78        10      19614        76.0         21   \n",
       "2  debt_consolidation   8.43        12       9747        26.7         22   \n",
       "3         credit_card  21.07         9       7179        39.7         12   \n",
       "4  debt_consolidation  23.84        18       9786        13.4         37   \n",
       "\n",
       "  issue_month  cred_age  \n",
       "0         Dec      16.0  \n",
       "1         Dec      13.0  \n",
       "2         Dec      15.0  \n",
       "3         Dec       5.0  \n",
       "4         Dec      12.0  "
      ]
     },
     "execution_count": 8,
     "metadata": {},
     "output_type": "execute_result"
    }
   ],
   "source": [
    "df = CleanData(df)\n",
    "df.head()"
   ]
  },
  {
   "cell_type": "markdown",
   "metadata": {},
   "source": [
    "Cleaning function did the job by extracting numeric part from mixed data types. Also, we have a new feature that is 'credit age' measured in years. Next we point attantion to a target feature."
   ]
  },
  {
   "cell_type": "markdown",
   "metadata": {},
   "source": [
    "### The Target Feature:  Loan Status"
   ]
  },
  {
   "cell_type": "code",
   "execution_count": 19,
   "metadata": {},
   "outputs": [
    {
     "data": {
      "text/plain": [
       "Fully Paid            296634\n",
       "Charged Off            74762\n",
       "Current                46461\n",
       "Late (31-120 days)      1819\n",
       "In Grace Period          980\n",
       "Late (16-30 days)        434\n",
       "Default                    5\n",
       "Name: loan_status, dtype: int64"
      ]
     },
     "execution_count": 19,
     "metadata": {},
     "output_type": "execute_result"
    }
   ],
   "source": [
    "# simplify target feature\n",
    "df.loan_status.value_counts()"
   ]
  },
  {
   "cell_type": "markdown",
   "metadata": {},
   "source": [
    "Target feature 'loan_status' is composed of 7 factors. For simplicity, we reduce it down to two 'Good' and 'Bad' loans. We consider 'Fully Paid' and 'Current' as good loans, while the rest as bad loans. Here, I make a new function to achieve above transformation."
   ]
  },
  {
   "cell_type": "code",
   "execution_count": 9,
   "metadata": {},
   "outputs": [],
   "source": [
    "good_loans = ['Fully Paid', 'Current']\n",
    "\n",
    "def ChangeStatus(status):\n",
    "    if status in good_loans:\n",
    "        return 'Good Loan'\n",
    "    else:\n",
    "        return 'Bad Loan'\n",
    "\n",
    "tmp = df['loan_status'].apply(ChangeStatus)\n",
    "df.loan_status = tmp"
   ]
  },
  {
   "cell_type": "code",
   "execution_count": 10,
   "metadata": {
    "scrolled": false
   },
   "outputs": [
    {
     "data": {
      "text/plain": [
       "Good Loan    343095\n",
       "Bad Loan      78000\n",
       "Name: loan_status, dtype: int64"
      ]
     },
     "execution_count": 10,
     "metadata": {},
     "output_type": "execute_result"
    }
   ],
   "source": [
    "df.loan_status.value_counts()"
   ]
  },
  {
   "cell_type": "code",
   "execution_count": 11,
   "metadata": {
    "scrolled": true
   },
   "outputs": [
    {
     "name": "stdout",
     "output_type": "stream",
     "text": [
      "Good Loans Fraction = 0.81\n",
      "Bad Loans Fraction = 0.19\n"
     ]
    }
   ],
   "source": [
    "print('Good Loans Fraction =',round(df.loan_status.value_counts()[0]/df.shape[0],2))\n",
    "print('Bad Loans Fraction =',round(df.loan_status.value_counts()[1]/df.shape[0],2))"
   ]
  },
  {
   "cell_type": "code",
   "execution_count": 27,
   "metadata": {},
   "outputs": [
    {
     "data": {
      "image/png": "[encoded data removed]",
      "text/plain": [
       "<Figure size 1152x432 with 2 Axes>"
      ]
     },
     "metadata": {
      "needs_background": "light"
     },
     "output_type": "display_data"
    }
   ],
   "source": [
    "plotLoanStat1(df,colors = ColorList([11,12]))"
   ]
  },
  {
   "cell_type": "markdown",
   "metadata": {},
   "source": [
    "* Based on fraction of 'Good' and 'Bad' loans, we do have data imbalance problem that must be addressed before applying predictive modelling.\n",
    "* Percentage of issued loans seem to increase slightly as time passes. Percentage of Good Loans granted every month is nearly 4 times more than Bad Loans."
   ]
  },
  {
   "cell_type": "markdown",
   "metadata": {},
   "source": [
    "### Feature Statistics\n",
    "\n",
    "It is always important to check for extreme cases. For instance, checking min and max values of features might help spot outliers. Pandas have a convinient function 'describe' to fullfill this task."
   ]
  },
  {
   "cell_type": "code",
   "execution_count": 49,
   "metadata": {
    "scrolled": true
   },
   "outputs": [
    {
     "data": {
      "text/html": [
       "<div>\n",
       "<style scoped>\n",
       "    .dataframe tbody tr th:only-of-type {\n",
       "        vertical-align: middle;\n",
       "    }\n",
       "\n",
       "    .dataframe tbody tr th {\n",
       "        vertical-align: top;\n",
       "    }\n",
       "\n",
       "    .dataframe thead th {\n",
       "        text-align: right;\n",
       "    }\n",
       "</style>\n",
       "<table border=\"1\" class=\"dataframe\">\n",
       "  <thead>\n",
       "    <tr style=\"text-align: right;\">\n",
       "      <th></th>\n",
       "      <th>loan_amnt</th>\n",
       "      <th>int_rate</th>\n",
       "      <th>installment</th>\n",
       "      <th>emp_length</th>\n",
       "      <th>annual_inc</th>\n",
       "      <th>dti</th>\n",
       "      <th>open_acc</th>\n",
       "      <th>revol_bal</th>\n",
       "      <th>revol_util</th>\n",
       "      <th>total_acc</th>\n",
       "      <th>cred_age</th>\n",
       "    </tr>\n",
       "  </thead>\n",
       "  <tbody>\n",
       "    <tr>\n",
       "      <th>mean</th>\n",
       "      <td>15240.3</td>\n",
       "      <td>12.6</td>\n",
       "      <td>441.8</td>\n",
       "      <td>5.8</td>\n",
       "      <td>76965.6</td>\n",
       "      <td>19.1</td>\n",
       "      <td>11.9</td>\n",
       "      <td>17685.5</td>\n",
       "      <td>53.8</td>\n",
       "      <td>25.5</td>\n",
       "      <td>16.8</td>\n",
       "    </tr>\n",
       "    <tr>\n",
       "      <th>std</th>\n",
       "      <td>8571.3</td>\n",
       "      <td>4.3</td>\n",
       "      <td>244.8</td>\n",
       "      <td>3.8</td>\n",
       "      <td>73950.0</td>\n",
       "      <td>8.9</td>\n",
       "      <td>5.6</td>\n",
       "      <td>24195.0</td>\n",
       "      <td>23.9</td>\n",
       "      <td>12.1</td>\n",
       "      <td>7.6</td>\n",
       "    </tr>\n",
       "    <tr>\n",
       "      <th>min</th>\n",
       "      <td>1000.0</td>\n",
       "      <td>5.3</td>\n",
       "      <td>14.0</td>\n",
       "      <td>0.0</td>\n",
       "      <td>0.0</td>\n",
       "      <td>0.0</td>\n",
       "      <td>1.0</td>\n",
       "      <td>0.0</td>\n",
       "      <td>0.0</td>\n",
       "      <td>4.0</td>\n",
       "      <td>3.0</td>\n",
       "    </tr>\n",
       "    <tr>\n",
       "      <th>max</th>\n",
       "      <td>35000.0</td>\n",
       "      <td>29.0</td>\n",
       "      <td>1445.5</td>\n",
       "      <td>10.0</td>\n",
       "      <td>9500000.0</td>\n",
       "      <td>999.0</td>\n",
       "      <td>90.0</td>\n",
       "      <td>2904836.0</td>\n",
       "      <td>193.0</td>\n",
       "      <td>169.0</td>\n",
       "      <td>71.0</td>\n",
       "    </tr>\n",
       "  </tbody>\n",
       "</table>\n",
       "</div>"
      ],
      "text/plain": [
       "      loan_amnt  int_rate  installment  emp_length  annual_inc    dti  \\\n",
       "mean    15240.3      12.6        441.8         5.8     76965.6   19.1   \n",
       "std      8571.3       4.3        244.8         3.8     73950.0    8.9   \n",
       "min      1000.0       5.3         14.0         0.0         0.0    0.0   \n",
       "max     35000.0      29.0       1445.5        10.0   9500000.0  999.0   \n",
       "\n",
       "      open_acc  revol_bal  revol_util  total_acc  cred_age  \n",
       "mean      11.9    17685.5        53.8       25.5      16.8  \n",
       "std        5.6    24195.0        23.9       12.1       7.6  \n",
       "min        1.0        0.0         0.0        4.0       3.0  \n",
       "max       90.0  2904836.0       193.0      169.0      71.0  "
      ]
     },
     "execution_count": 49,
     "metadata": {},
     "output_type": "execute_result"
    }
   ],
   "source": [
    "#statistics of numeric features\n",
    "df.describe().iloc[[1,2,3,7],:].round(1)"
   ]
  },
  {
   "cell_type": "markdown",
   "metadata": {},
   "source": [
    "* Max loan amount is 35K, while min loan amount is as low as 1000 dollars. \n",
    "* Credit term is either 36 or 60 month, so it is better to keep it as categorical feature.\n",
    "* Interest rate range seems reasonable (5% - 29%), installments and employement length look fine \n",
    "* Max annual income looks too high, let's take closer look!"
   ]
  },
  {
   "cell_type": "code",
   "execution_count": 12,
   "metadata": {
    "scrolled": true
   },
   "outputs": [
    {
     "data": {
      "text/html": [
       "<div>\n",
       "<style scoped>\n",
       "    .dataframe tbody tr th:only-of-type {\n",
       "        vertical-align: middle;\n",
       "    }\n",
       "\n",
       "    .dataframe tbody tr th {\n",
       "        vertical-align: top;\n",
       "    }\n",
       "\n",
       "    .dataframe thead th {\n",
       "        text-align: right;\n",
       "    }\n",
       "</style>\n",
       "<table border=\"1\" class=\"dataframe\">\n",
       "  <thead>\n",
       "    <tr style=\"text-align: right;\">\n",
       "      <th></th>\n",
       "      <th>loan_amnt</th>\n",
       "      <th>term</th>\n",
       "      <th>int_rate</th>\n",
       "      <th>installment</th>\n",
       "      <th>grade</th>\n",
       "      <th>sub_grade</th>\n",
       "      <th>emp_length</th>\n",
       "      <th>home_ownership</th>\n",
       "      <th>annual_inc</th>\n",
       "      <th>verification_status</th>\n",
       "      <th>loan_status</th>\n",
       "      <th>purpose</th>\n",
       "      <th>dti</th>\n",
       "      <th>open_acc</th>\n",
       "      <th>revol_bal</th>\n",
       "      <th>revol_util</th>\n",
       "      <th>total_acc</th>\n",
       "      <th>issue_month</th>\n",
       "      <th>cred_age</th>\n",
       "    </tr>\n",
       "  </thead>\n",
       "  <tbody>\n",
       "    <tr>\n",
       "      <th>231029</th>\n",
       "      <td>24000</td>\n",
       "      <td>60 months</td>\n",
       "      <td>7.89</td>\n",
       "      <td>485.38</td>\n",
       "      <td>A</td>\n",
       "      <td>A5</td>\n",
       "      <td>10</td>\n",
       "      <td>MORTGAGE</td>\n",
       "      <td>9500000.0</td>\n",
       "      <td>Source Verified</td>\n",
       "      <td>Bad Loan</td>\n",
       "      <td>credit_card</td>\n",
       "      <td>0.12</td>\n",
       "      <td>12</td>\n",
       "      <td>16854</td>\n",
       "      <td>22.0</td>\n",
       "      <td>31</td>\n",
       "      <td>Jul</td>\n",
       "      <td>33.0</td>\n",
       "    </tr>\n",
       "  </tbody>\n",
       "</table>\n",
       "</div>"
      ],
      "text/plain": [
       "        loan_amnt        term  int_rate  installment grade sub_grade  \\\n",
       "231029      24000   60 months      7.89       485.38     A        A5   \n",
       "\n",
       "        emp_length home_ownership  annual_inc verification_status loan_status  \\\n",
       "231029          10       MORTGAGE   9500000.0     Source Verified    Bad Loan   \n",
       "\n",
       "            purpose   dti  open_acc  revol_bal  revol_util  total_acc  \\\n",
       "231029  credit_card  0.12        12      16854        22.0         31   \n",
       "\n",
       "       issue_month  cred_age  \n",
       "231029         Jul      33.0  "
      ]
     },
     "execution_count": 12,
     "metadata": {},
     "output_type": "execute_result"
    }
   ],
   "source": [
    "df[df.annual_inc == 9500000]"
   ]
  },
  {
   "cell_type": "markdown",
   "metadata": {
    "collapsed": true
   },
   "source": [
    "This is indeed interesting case, where customer's loan status was marked as bad with almost 1000K annual income, excellent credit history, and he wanted 24K for 60 month term. Probably, he forgot to make payment on time. This is way higher than national average, and can be considered an outlier.  "
   ]
  },
  {
   "cell_type": "code",
   "execution_count": 13,
   "metadata": {},
   "outputs": [],
   "source": [
    "#drop_indx = df[df.annual_inc == 9500000].index[0]\n",
    "#df.drop(drop_indx, inplace=True) # keep it"
   ]
  },
  {
   "cell_type": "markdown",
   "metadata": {},
   "source": [
    "### Loan Purpose"
   ]
  },
  {
   "cell_type": "code",
   "execution_count": 14,
   "metadata": {
    "scrolled": false
   },
   "outputs": [
    {
     "data": {
      "text/plain": [
       "debt_consolidation    250020\n",
       "credit_card           102025\n",
       "home_improvement       25293\n",
       "other                  19204\n",
       "major_purchase          7449\n",
       "medical                 3938\n",
       "car                     3466\n",
       "small_business          3364\n",
       "moving                  2420\n",
       "vacation                2249\n",
       "house                   1438\n",
       "renewable_energy         224\n",
       "wedding                    4\n",
       "educational                1\n",
       "Name: purpose, dtype: int64"
      ]
     },
     "execution_count": 14,
     "metadata": {},
     "output_type": "execute_result"
    }
   ],
   "source": [
    "df.purpose.value_counts()"
   ]
  },
  {
   "cell_type": "markdown",
   "metadata": {
    "collapsed": true
   },
   "source": [
    "Loan is given for variety of different purposes as listed above. Most common cases are debt consolidation, credit card, and home improvement. Now, let's take a look at how amount of loan varies among different loan purposes by loan status using beautiful figure tailored with 'plotly'."
   ]
  },
  {
   "cell_type": "code",
   "execution_count": 15,
   "metadata": {
    "scrolled": true
   },
   "outputs": [
    {
     "data": {
      "text/html": [
       "<iframe id=\"igraph\" scrolling=\"no\" style=\"border:none;\" seamless=\"seamless\" src=\"https://plot.ly/~truzmeto/101.embed\" height=\"525px\" width=\"100%\"></iframe>"
      ],
      "text/plain": [
       "<plotly.tools.PlotlyDisplay object>"
      ]
     },
     "execution_count": 15,
     "metadata": {},
     "output_type": "execute_result"
    }
   ],
   "source": [
    "ave_good_loan_by_purpose = df[df.loan_status == 'Good Loan'].groupby('purpose').loan_amnt.mean().astype(int)\n",
    "ave_bad_loan_by_purpose = df[df.loan_status == 'Bad Loan'].groupby('purpose').loan_amnt.mean().astype(int)\n",
    "\n",
    "good_bars = go.Bar(\n",
    "    x = list(ave_good_loan_by_purpose.index),\n",
    "    y = list(ave_good_loan_by_purpose.values),\n",
    "    name='Good Loans',\n",
    "    text='%',\n",
    "    marker=dict(\n",
    "        color='rgba(50, 171, 96, 0.7)',\n",
    "        line = dict(\n",
    "            color='rgba(50, 171, 96, 1.0)',\n",
    "            width=2\n",
    "        )\n",
    "    )\n",
    ")\n",
    "\n",
    "bad_bars = go.Bar(\n",
    "    x = list(ave_bad_loan_by_purpose.index),\n",
    "    y = list(ave_bad_loan_by_purpose.values),\n",
    "    name = 'Bad Loans',\n",
    "    text='%',\n",
    "    marker=dict(\n",
    "        color='rgba(219,64,82,0.7)',\n",
    "        line = dict(\n",
    "            color='rgba(219, 64, 82, 1.0)',\n",
    "            width=2\n",
    "        )\n",
    "    )\n",
    ")\n",
    "\n",
    "data = [good_bars, bad_bars]\n",
    "\n",
    "layout = go.Layout(\n",
    "    title='Average Amount of Loan given for Different Purposes Classified by Loan Status',\n",
    "    xaxis=dict(\n",
    "        title=''\n",
    "    ),\n",
    "    yaxis=dict(\n",
    "        title='Average Loan Amount',\n",
    "    ),\n",
    "    paper_bgcolor='rgba(250,200,200,0.3)',\n",
    "    plot_bgcolor='rgba(250,200,200,0.3)',\n",
    "    showlegend=True\n",
    ")\n",
    "\n",
    "fig = dict(data=data, layout=layout)\n",
    "iplot(fig)\n"
   ]
  },
  {
   "cell_type": "markdown",
   "metadata": {},
   "source": [
    "Plotly images may not be visible in a github repo. Thus, I also attached locally saved static image."
   ]
  },
  {
   "cell_type": "markdown",
   "metadata": {},
   "source": [
    "**Load Static Image**\n",
    "\n",
    "![title](./newplot1.png)"
   ]
  },
  {
   "cell_type": "markdown",
   "metadata": {
    "collapsed": true
   },
   "source": [
    "For most of the loan purposes, red bars are slightly taller than the green. Only money lended for educational or wedding purposes stayed completely clean, meaning no missed payments, no charged offs etc. This suggests that 'loan purpose' feature may be a good candidate for our binary classification problem since it is able to catch some difference between good and bad loans. "
   ]
  },
  {
   "cell_type": "markdown",
   "metadata": {},
   "source": [
    "### Feature Correlations\n",
    "\n",
    "Correlations between features helps to solve collinearity problem. Highly correlated features tend to\n",
    "negativaly affect the prediction performance by introducing bias towards that specific feature. Thus, in practice, among highy correlated features we keep one, and remove the rest. Here, I use function built on top of matplotlib\n",
    "('src/plotting.py') to illustrate feature correlation."
   ]
  },
  {
   "cell_type": "code",
   "execution_count": 50,
   "metadata": {},
   "outputs": [
    {
     "data": {
      "image/png": "[encoded data removed]",
      "text/plain": [
       "<Figure size 648x504 with 2 Axes>"
      ]
     },
     "metadata": {
      "needs_background": "light"
     },
     "output_type": "display_data"
    }
   ],
   "source": [
    "cor = df.corr()\n",
    "corr_names = ['Loan Amount', 'Interest Rate', 'Installment', 'Employement Length',\n",
    "              'Annual Income', 'Debt to Credit Ratio', 'Open Accounts', 'Revolving Balance',\n",
    "              'Revolving Utility', 'Total Accounts','Credit Age']\n",
    "\n",
    "cmap = \"YlGnBu\"\n",
    "plt.figure(figsize=(9,7))\n",
    "CPlot(corr_mat = cor.values, axis_labs = corr_names,cmap = cmap,\n",
    "      pad = 0.05,rad = 41*len(cor), xlab = '',ylab = '',fs = 13,\n",
    "      xtick_lab_rot = 70)"
   ]
  },
  {
   "cell_type": "markdown",
   "metadata": {},
   "source": [
    "'loan_amnt' and 'installment' are highly correlated. Therefore, we can drop the 'installments'."
   ]
  },
  {
   "cell_type": "code",
   "execution_count": 51,
   "metadata": {},
   "outputs": [],
   "source": [
    "df.drop(columns=\"installment\",inplace = True)"
   ]
  },
  {
   "cell_type": "markdown",
   "metadata": {},
   "source": [
    "## Interest Rate\n",
    "\n",
    "Interest rate is another interesting aspect of loan to look at. Here, I sort 'grade' and 'sub_grade'\n",
    "in alphabetic order and check how interest rate varies across different grades. "
   ]
  },
  {
   "cell_type": "code",
   "execution_count": 52,
   "metadata": {},
   "outputs": [
    {
     "data": {
      "image/png": "[encoded data removed]",
      "text/plain": [
       "<Figure size 1008x720 with 2 Axes>"
      ]
     },
     "metadata": {
      "needs_background": "light"
     },
     "output_type": "display_data"
    }
   ],
   "source": [
    "colors = ColorList([11,1])\n",
    "plotLoanStat2(df,colors)"
   ]
  },
  {
   "cell_type": "markdown",
   "metadata": {
    "collapsed": true,
    "scrolled": true
   },
   "source": [
    "* Interest rates show a good correlation with loan grade. More interest applied as grade goes down from A to G\n",
    "* In some cases, loan status marked as 'bad' show slightly higher inerest rate, but negligable. \n",
    "* Again, this feature may not be a good predictor of loan status!\n"
   ]
  },
  {
   "cell_type": "markdown",
   "metadata": {},
   "source": [
    "Next, we consider variation of interest rate in time across different home ownership types by calling 'plotLoanStat3' function. (src/plotting.py)"
   ]
  },
  {
   "cell_type": "code",
   "execution_count": 53,
   "metadata": {
    "scrolled": true
   },
   "outputs": [
    {
     "data": {
      "image/png": "[encoded data removed]",
      "text/plain": [
       "<Figure size 1080x360 with 1 Axes>"
      ]
     },
     "metadata": {
      "needs_background": "light"
     },
     "output_type": "display_data"
    }
   ],
   "source": [
    "plotLoanStat3(df)"
   ]
  },
  {
   "cell_type": "markdown",
   "metadata": {},
   "source": [
    "* Home ownership type \"ANY\" did not show up\n",
    "* Home renters seem to pay more interest on loans compared to other cases"
   ]
  },
  {
   "cell_type": "code",
   "execution_count": 62,
   "metadata": {
    "scrolled": false
   },
   "outputs": [
    {
     "data": {
      "text/plain": [
       "MORTGAGE    207683\n",
       "RENT        167644\n",
       "OWN          45766\n",
       "ANY              2\n",
       "Name: home_ownership, dtype: int64"
      ]
     },
     "execution_count": 62,
     "metadata": {},
     "output_type": "execute_result"
    }
   ],
   "source": [
    "df.home_ownership.value_counts()"
   ]
  },
  {
   "cell_type": "markdown",
   "metadata": {},
   "source": [
    "There are only 2 cases for \"ANY\", that we will replace with \"OWN\" to reduce memory usage later for dummy encoding."
   ]
  },
  {
   "cell_type": "code",
   "execution_count": 63,
   "metadata": {},
   "outputs": [],
   "source": [
    " df['home_ownership'] = df['home_ownership'].replace(['ANY'], 'OWN')"
   ]
  },
  {
   "cell_type": "code",
   "execution_count": 64,
   "metadata": {},
   "outputs": [
    {
     "data": {
      "text/plain": [
       "MORTGAGE    207683\n",
       "RENT        167644\n",
       "OWN          45768\n",
       "Name: home_ownership, dtype: int64"
      ]
     },
     "execution_count": 64,
     "metadata": {},
     "output_type": "execute_result"
    }
   ],
   "source": [
    "df.home_ownership.value_counts()"
   ]
  },
  {
   "cell_type": "markdown",
   "metadata": {},
   "source": [
    "### Loan Amount by Income Class\n",
    "\n",
    "First, I make a function in order to partition income into different classes."
   ]
  },
  {
   "cell_type": "code",
   "execution_count": 65,
   "metadata": {},
   "outputs": [],
   "source": [
    "def partition_income(income):\n",
    "    #np.empty(len(income))\n",
    "    clas = []\n",
    "    for val in range(len(income)):\n",
    "        if val <= 20000:\n",
    "            clas.append(\"lowB\")\n",
    "        elif (val > 20000) and (val <= 35000):\n",
    "            clas.append(\"lowA\")\n",
    "        elif (val > 35000) and (val <= 50000):\n",
    "            clas.append(\"midB\")\n",
    "        elif (val > 50000) and (val <= 70000):\n",
    "            clas.append(\"midA\")\n",
    "        elif (val > 70000) and (val <= 100000):\n",
    "            clas.append(\"upperB\")\n",
    "        elif (val > 100000) and (val <= 250000):\n",
    "            clas.append(\"upperA\")\n",
    "        else:            \n",
    "            clas.append(\"Rich\")\n",
    "            \n",
    "    return clas\n",
    "        "
   ]
  },
  {
   "cell_type": "code",
   "execution_count": 66,
   "metadata": {},
   "outputs": [],
   "source": [
    "classes = partition_income(df.annual_inc.values)"
   ]
  },
  {
   "cell_type": "markdown",
   "metadata": {},
   "source": [
    "Then, I add this new feature into our data frame."
   ]
  },
  {
   "cell_type": "code",
   "execution_count": 67,
   "metadata": {},
   "outputs": [],
   "source": [
    "df['inc_class'] = pd.Series( classes, index=df.index)     "
   ]
  },
  {
   "cell_type": "code",
   "execution_count": 68,
   "metadata": {
    "scrolled": true
   },
   "outputs": [
    {
     "data": {
      "text/plain": [
       "Rich      171094\n",
       "upperA    150000\n",
       "upperB     30000\n",
       "lowB       20001\n",
       "midA       20000\n",
       "lowA       15000\n",
       "midB       15000\n",
       "Name: inc_class, dtype: int64"
      ]
     },
     "execution_count": 68,
     "metadata": {},
     "output_type": "execute_result"
    }
   ],
   "source": [
    "df.inc_class.value_counts()"
   ]
  },
  {
   "cell_type": "markdown",
   "metadata": {},
   "source": [
    "Wow! This data set seem to contain mostly rich people based on their over 250K annual income.\n",
    "Let's visualize it!"
   ]
  },
  {
   "cell_type": "code",
   "execution_count": 69,
   "metadata": {},
   "outputs": [
    {
     "data": {
      "text/plain": [
       "Text(0.5, 1.0, 'Distribution of loan given to lowB class')"
      ]
     },
     "execution_count": 69,
     "metadata": {},
     "output_type": "execute_result"
    },
    {
     "data": {
      "image/png": "[encoded data removed]",
      "text/plain": [
       "<Figure size 1008x360 with 2 Axes>"
      ]
     },
     "metadata": {
      "needs_background": "light"
     },
     "output_type": "display_data"
    }
   ],
   "source": [
    "fig, ax = plt.subplots(1,2, figsize=(14,5))\n",
    "\n",
    "loan_rich = df[df.inc_class == 'Rich'].loan_amnt.values\n",
    "loan_lowB = df[df.inc_class == 'lowB'].loan_amnt.values\n",
    "\n",
    "sns.distplot(loan_rich, ax=ax[0], color=\"#F7522F\")\n",
    "ax[0].set_title(\"Distribution of loan given to Rich\", fontsize=14)\n",
    "\n",
    "sns.distplot(loan_lowB, ax=ax[1], color=\"#2F8FF7\")\n",
    "ax[1].set_title(\"Distribution of loan given to lowB class\", fontsize=14)\n"
   ]
  },
  {
   "cell_type": "markdown",
   "metadata": {},
   "source": []
  },
  {
   "cell_type": "code",
   "execution_count": 28,
   "metadata": {
    "scrolled": false
   },
   "outputs": [
    {
     "data": {
      "text/html": [
       "<iframe id=\"igraph\" scrolling=\"no\" style=\"border:none;\" seamless=\"seamless\" src=\"https://plot.ly/~truzmeto/103.embed\" height=\"525px\" width=\"100%\"></iframe>"
      ],
      "text/plain": [
       "<plotly.tools.PlotlyDisplay object>"
      ]
     },
     "execution_count": 28,
     "metadata": {},
     "output_type": "execute_result"
    }
   ],
   "source": [
    "ave_good_loan_by_class = df[df.loan_status == 'Good Loan'].groupby('inc_class',axis=0).loan_amnt.sum().astype(int)\n",
    "ave_bad_loan_by_class = df[df.loan_status == 'Bad Loan'].groupby('inc_class',axis=0).loan_amnt.sum().astype(int)\n",
    "\n",
    "#prepare data for plotly\n",
    "data = [\n",
    "    go.Scatterpolar(mode='lines+markers',\n",
    "        r = list(ave_good_loan_by_class.values),\n",
    "        theta = list(ave_good_loan_by_class.index),\n",
    "        fill = 'toself',\n",
    "        name = 'Good Loans',\n",
    "        line = dict(color = \"#63AF63\"),\n",
    "        marker = dict(color = \"#B3FFB3\",symbol = \"square\",size = 11),\n",
    "        subplot = \"polar1\"),\n",
    "\n",
    "    go.Scatterpolar(\n",
    "        mode='lines+markers',\n",
    "        r = list(ave_bad_loan_by_class.values),\n",
    "        theta = list(ave_bad_loan_by_class.index),\n",
    "        fill = 'toself', name = 'Bad Loans',\n",
    "        line = dict(color = \"#C31414\"),\n",
    "        marker = dict(color = \"#FF5050\",symbol = \"square\",size = 11),\n",
    "        subplot = \"polar2\")\n",
    "]\n",
    "\n",
    "#define layout\n",
    "layout = go.Layout(\n",
    "    title=\"Total Good and Bad Loans by Income Class\",\n",
    "    showlegend = False,\n",
    "    paper_bgcolor = \"rgb(255, 248, 243)\",\n",
    "    polar1 = dict(\n",
    "        domain = dict(\n",
    "        x = [0,0.4],\n",
    "        y = [0,1]\n",
    "      ),\n",
    "      radialaxis = dict(\n",
    "        tickfont = dict(\n",
    "          size = 12\n",
    "        )\n",
    "      ),\n",
    "      angularaxis = dict(\n",
    "        tickfont = dict(\n",
    "          size = 12\n",
    "        ),\n",
    "        rotation = 90,\n",
    "        direction = \"counterclockwise\"\n",
    "      )\n",
    "    ),\n",
    "    polar2 = dict(\n",
    "      domain = dict(\n",
    "        x = [0.6,1],\n",
    "        y = [0,1]\n",
    "      ),\n",
    "      radialaxis = dict(\n",
    "        tickfont = dict(\n",
    "          size = 12\n",
    "        )\n",
    "      ),\n",
    "      angularaxis = dict(\n",
    "        tickfont = dict(\n",
    "          size = 12\n",
    "        ),\n",
    "        rotation = 90,\n",
    "        direction = \"clockwise\"\n",
    "      ),\n",
    "    )\n",
    ")\n",
    "\n",
    "fig = go.Figure(data=data, layout=layout)\n",
    "iplot(fig)"
   ]
  },
  {
   "cell_type": "markdown",
   "metadata": {},
   "source": [
    "**Loading static Image**\n",
    "\n",
    "![title](./newplot3.png)"
   ]
  },
  {
   "cell_type": "markdown",
   "metadata": {},
   "source": [
    "* Looks like most of the net loan money is consumed by 'Rich' and 'UpperA' class, not surprisingly amout given to other classes is marginal.\n",
    "* Total loan amout given to upperA and rich class approximates 2 billion for good loans, while it is close to 500 million for bad loans. "
   ]
  },
  {
   "cell_type": "code",
   "execution_count": null,
   "metadata": {},
   "outputs": [],
   "source": []
  },
  {
   "cell_type": "code",
   "execution_count": 72,
   "metadata": {},
   "outputs": [
    {
     "data": {
      "text/html": [
       "<iframe id=\"igraph\" scrolling=\"no\" style=\"border:none;\" seamless=\"seamless\" src=\"https://plot.ly/~truzmeto/117.embed\" height=\"525px\" width=\"100%\"></iframe>"
      ],
      "text/plain": [
       "<plotly.tools.PlotlyDisplay object>"
      ]
     },
     "execution_count": 72,
     "metadata": {},
     "output_type": "execute_result"
    }
   ],
   "source": [
    "ave_good_loan_by_grade = df[df.loan_status == 'Good Loan'].groupby('grade',axis=0).cred_age.max().astype(int)\n",
    "ave_bad_loan_by_grade = df[df.loan_status == 'Bad Loan'].groupby('grade',axis=0).cred_age.max().astype(int)\n",
    "\n",
    "#prepare data for plotly\n",
    "data = [\n",
    "    go.Scatterpolar(mode='lines+markers',\n",
    "        r = list(ave_good_loan_by_grade.values),\n",
    "        theta = list(ave_good_loan_by_grade.index),\n",
    "        fill = 'toself',\n",
    "        name = 'Good Loans',\n",
    "        line = dict(color = \"#63AF63\"),\n",
    "        marker = dict(color = \"#B3FFB3\",symbol = \"square\",size = 11),\n",
    "        subplot = \"polar1\"),\n",
    "\n",
    "    go.Scatterpolar(\n",
    "        mode='lines+markers',\n",
    "        r = list(ave_bad_loan_by_grade.values),\n",
    "        theta = list(ave_bad_loan_by_grade.index),\n",
    "        fill = 'toself', name = 'Bad Loans',\n",
    "        line = dict(color = \"#C31414\"),\n",
    "        marker = dict(color = \"#FF5050\",symbol = \"square\",size = 11),\n",
    "        subplot = \"polar2\")\n",
    "]\n",
    "\n",
    "#define layout\n",
    "layout = go.Layout(\n",
    "    title=\"Max Credit Age for Good and Bad Loans by Grade\",\n",
    "    showlegend = False,\n",
    "    paper_bgcolor = \"rgb(255, 248, 243)\",\n",
    "    polar1 = dict(\n",
    "        domain = dict(\n",
    "        x = [0,0.4],\n",
    "        y = [0,1]\n",
    "      ),\n",
    "      radialaxis = dict(\n",
    "        tickfont = dict(\n",
    "          size = 12\n",
    "        )\n",
    "      ),\n",
    "      angularaxis = dict(\n",
    "        tickfont = dict(\n",
    "          size = 12\n",
    "        ),\n",
    "        rotation = 90,\n",
    "        direction = \"counterclockwise\"\n",
    "      )\n",
    "    ),\n",
    "    polar2 = dict(\n",
    "      domain = dict(\n",
    "        x = [0.6,1],\n",
    "        y = [0,1]\n",
    "      ),\n",
    "      radialaxis = dict(\n",
    "        tickfont = dict(\n",
    "          size = 12\n",
    "        )\n",
    "      ),\n",
    "      angularaxis = dict(\n",
    "        tickfont = dict(\n",
    "          size = 12\n",
    "        ),\n",
    "        rotation = 90,\n",
    "        direction = \"clockwise\"\n",
    "      ),\n",
    "    )\n",
    ")\n",
    "\n",
    "fig = go.Figure(data=data, layout=layout)\n",
    "iplot(fig)"
   ]
  },
  {
   "cell_type": "markdown",
   "metadata": {},
   "source": [
    "**Loading static Image**\n",
    "\n",
    "![title](./newplot2.png)"
   ]
  },
  {
   "cell_type": "code",
   "execution_count": null,
   "metadata": {},
   "outputs": [],
   "source": []
  },
  {
   "cell_type": "markdown",
   "metadata": {},
   "source": [
    "This finalizes or data analysis. Now, we shift the attention to Machine Learning."
   ]
  },
  {
   "cell_type": "markdown",
   "metadata": {},
   "source": [
    "## Machine Learning\n",
    "\n",
    "Here, using cleaned data we apply predictive modelling to identify if customer loan status is going to be\n",
    "good or bad. First we apply min max normalization to numeric features. Then, to avoid issues due to data imbalance\n",
    "we increase population of under represented class by simply replicating it. Then, we performe one-hot-encoding on all categorical features. Finally, we split entire data set into 70% training and 30% testing sub sets and data is ready for ML."
   ]
  },
  {
   "cell_type": "markdown",
   "metadata": {},
   "source": [
    "### Feature Normalization"
   ]
  },
  {
   "cell_type": "code",
   "execution_count": 30,
   "metadata": {},
   "outputs": [],
   "source": [
    "#drop issue_month\n",
    "df.drop(columns=\"issue_month\",inplace = True)"
   ]
  },
  {
   "cell_type": "code",
   "execution_count": 31,
   "metadata": {},
   "outputs": [],
   "source": [
    "#split numeric from categorical features\n",
    "df_cat = df[['term','grade','sub_grade','home_ownership',\n",
    "             'verification_status', 'loan_status','purpose', 'inc_class']]\n",
    "\n",
    "df_num = df[['loan_amnt', 'int_rate', 'emp_length','annual_inc','dti', 'open_acc',\n",
    "           'revol_bal', 'revol_util', 'total_acc','cred_age']]\n",
    "\n",
    "# min max normalize numeric features\n",
    "Min_Max_Scaler = preprocessing.MinMaxScaler()\n",
    "df_norm = pd.DataFrame(Min_Max_Scaler.fit_transform(df_num.values))\n",
    "\n",
    "#retrive colnames of normed df\n",
    "df_norm.columns = list(df_num.columns)\n",
    "\n",
    "#join normed feateres with categorical features\n",
    "df = pd.concat([df_cat, df_norm], axis=1)\n",
    "\n",
    "#join normed feateres with categorical features\n",
    "df = pd.concat([df_cat, df_norm], axis=1)\n",
    "\n",
    "df.fillna(0.0,inplace=True)\n",
    "df.fillna(0,inplace=True)\n"
   ]
  },
  {
   "cell_type": "markdown",
   "metadata": {},
   "source": [
    "### Simple trick to avoid data imbalance\n",
    "\n",
    "Here, I triple the amount of underrepresented class and shuffle. This makes sure that random forest classifier\n",
    "samples equal amouts of data from both classes, when it performs bagging. "
   ]
  },
  {
   "cell_type": "code",
   "execution_count": 32,
   "metadata": {},
   "outputs": [],
   "source": [
    "from sklearn.utils import shuffle\n",
    "df_bad = df[df.loan_status == 'Bad Loan']\n",
    "df = pd.concat([df,df_bad])\n",
    "df = shuffle(df)\n",
    "df = pd.concat([df,df_bad])\n",
    "df = shuffle(df)"
   ]
  },
  {
   "cell_type": "markdown",
   "metadata": {},
   "source": [
    "### Split target label from data & perform dummy encoding"
   ]
  },
  {
   "cell_type": "code",
   "execution_count": 33,
   "metadata": {},
   "outputs": [],
   "source": [
    "#split target labels from data\n",
    "labels = df['loan_status']#.values\n",
    "data = df.drop('loan_status',axis=1)#.values\n",
    "\n",
    "#performe one-hot-encoding on categorical features\n",
    "data = pd.get_dummies(data)"
   ]
  },
  {
   "cell_type": "code",
   "execution_count": 34,
   "metadata": {},
   "outputs": [
    {
     "data": {
      "text/plain": [
       "(577095, 81)"
      ]
     },
     "execution_count": 34,
     "metadata": {},
     "output_type": "execute_result"
    }
   ],
   "source": [
    "data.shape"
   ]
  },
  {
   "cell_type": "markdown",
   "metadata": {},
   "source": [
    "One-hot-encoding blew up number of features from 18 to 81!"
   ]
  },
  {
   "cell_type": "markdown",
   "metadata": {},
   "source": [
    "### Train Test Split & Apply Random Fores Classification\n",
    "\n",
    "Random Forest is basically a decision tree method with bagging(bootstrap aggregating).\n",
    "Bagging is a resampling technique, where subset of data is drown from original data with\n",
    "replacement many many times. By training a model(tree) on each resampled equal size\n",
    "subset we get a lot of distinct models that can be built into stronger learner when combined.\n",
    "In a Random Forest algorithm, we grow a tree on each resampled N subsets of data and later\n",
    "aggregate finale fit of all those trees. Averaging multiple models have similar bias as\n",
    "each of the models on its own, and reduced variance because of the average taken. \n",
    "Here I used scikitlearn's Random Forest classifier 'RandomForestClassifier'."
   ]
  },
  {
   "cell_type": "code",
   "execution_count": 35,
   "metadata": {},
   "outputs": [],
   "source": [
    "#train test split\n",
    "x_train, x_test, y_train, y_test = train_test_split(data, labels, test_size = 0.30, random_state = 10)"
   ]
  },
  {
   "cell_type": "code",
   "execution_count": 36,
   "metadata": {
    "scrolled": true
   },
   "outputs": [
    {
     "data": {
      "text/plain": [
       "RandomForestClassifier(bootstrap=True, class_weight=None, criterion='gini',\n",
       "            max_depth=2, max_features='auto', max_leaf_nodes=None,\n",
       "            min_impurity_decrease=0.0, min_impurity_split=None,\n",
       "            min_samples_leaf=1, min_samples_split=2,\n",
       "            min_weight_fraction_leaf=0.0, n_estimators=500, n_jobs=-1,\n",
       "            oob_score=False, random_state=10, verbose=0, warm_start=False)"
      ]
     },
     "execution_count": 36,
     "metadata": {},
     "output_type": "execute_result"
    }
   ],
   "source": [
    "from sklearn.ensemble import RandomForestClassifier\n",
    "rf = RandomForestClassifier(n_estimators = 500,\n",
    "                            max_depth = 2,\n",
    "                            random_state = 10,\n",
    "                            n_jobs = -1)\n",
    "\n",
    "rf.fit(x_train, y_train)"
   ]
  },
  {
   "cell_type": "code",
   "execution_count": 37,
   "metadata": {},
   "outputs": [],
   "source": [
    "pred_test_rf = rf.predict(x_test)"
   ]
  },
  {
   "cell_type": "code",
   "execution_count": 38,
   "metadata": {
    "scrolled": true
   },
   "outputs": [
    {
     "name": "stdout",
     "output_type": "stream",
     "text": [
      "[[ 9072 61208]\n",
      " [ 4387 98462]]\n",
      "              precision    recall  f1-score   support\n",
      "\n",
      "    Bad Loan       0.67      0.13      0.22     70280\n",
      "   Good Loan       0.62      0.96      0.75    102849\n",
      "\n",
      "   micro avg       0.62      0.62      0.62    173129\n",
      "   macro avg       0.65      0.54      0.48    173129\n",
      "weighted avg       0.64      0.62      0.53    173129\n",
      "\n"
     ]
    }
   ],
   "source": [
    "print(confusion_matrix(y_test, pred_test_rf))\n",
    "print(classification_report(y_test, pred_test_rf))"
   ]
  },
  {
   "cell_type": "markdown",
   "metadata": {},
   "source": [
    "### Plot Feature Importance"
   ]
  },
  {
   "cell_type": "code",
   "execution_count": 39,
   "metadata": {},
   "outputs": [
    {
     "data": {
      "text/plain": [
       "Text(0.5, 0, 'Feature Importance')"
      ]
     },
     "execution_count": 39,
     "metadata": {},
     "output_type": "execute_result"
    },
    {
     "data": {
      "image/png": "[encoded data removed]",
      "text/plain": [
       "<Figure size 792x864 with 1 Axes>"
      ]
     },
     "metadata": {
      "needs_background": "light"
     },
     "output_type": "display_data"
    }
   ],
   "source": [
    "plt.figure(figsize = (11,12))\n",
    "fs = 14\n",
    "n_feat = 25\n",
    "feat_importances = pd.Series(rf.feature_importances_, index = x_train.columns)\n",
    "feat_importances.nlargest(n_feat).plot(kind = 'barh', fontsize = 14)\n",
    "plt.title(\"Most Important Features\", fontsize = fs+2)\n",
    "plt.xlabel(\"Feature Importance\", fontsize = fs)"
   ]
  },
  {
   "cell_type": "markdown",
   "metadata": {},
   "source": [
    "* Top most important features happened to be int_rate, loan grade, loan term, debt to credit ratio, sub_grade, home ownership, varification status and annual income. Loan amount didn't show up among top 25 features. \n",
    "\n",
    "* Overall prediction accuracy of the model is 62%. It can be further improoved with cross validation"
   ]
  },
  {
   "cell_type": "markdown",
   "metadata": {},
   "source": [
    "## Conclusion\n",
    "\n"
   ]
  },
  {
   "cell_type": "markdown",
   "metadata": {},
   "source": [
    "As a result of analysing lendig clubs 2015 Loan dataset the following conclusion is made:\n",
    "\n",
    "* Data must be carefully pre processed by cleaning, normalizing before any desicion making model is applied.\n",
    "* Visual illustration of different features helps to identify correlations and relationship between them. \n",
    "* Rich and upperA class customers were given a nearly 4 times total loan compared to other classes.\n",
    "* Loan given for educational or wedding purposes was mostly marked as good loans.\n",
    "* Home renters pay more interest on loans compared to home owners or those with mortgage. \n",
    "* Interest rate is found to be the most important factor in classifying good and bad loans.\n",
    "* This work needs more feature extraction. Some of the least important features can be eliminated, or combined to create better features. \n",
    "* It also needs more robust imbalances data handling method.\n"
   ]
  },
  {
   "cell_type": "code",
   "execution_count": null,
   "metadata": {},
   "outputs": [],
   "source": []
  }
 ],
 "metadata": {
  "anaconda-cloud": {},
  "kernelspec": {
   "display_name": "Python 3",
   "language": "python",
   "name": "python3"
  },
  "language_info": {
   "codemirror_mode": {
    "name": "ipython",
    "version": 3
   },
   "file_extension": ".py",
   "mimetype": "text/x-python",
   "name": "python",
   "nbconvert_exporter": "python",
   "pygments_lexer": "ipython3",
   "version": "3.6.8"
  }
 },
 "nbformat": 4,
 "nbformat_minor": 2
}
